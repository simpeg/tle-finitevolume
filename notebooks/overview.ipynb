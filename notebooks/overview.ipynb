{
 "cells": [
  {
   "cell_type": "markdown",
   "metadata": {},
   "source": [
    "---\n",
    "title: Getting Started\n",
    "---"
   ]
  },
  {
   "cell_type": "markdown",
   "metadata": {
    "iooxa": null
   },
   "source": [
    "This notebook uses [Python 3.8](https://docs.python.org/3/) and the open source package [SimPEG](https://simpeg.xyz). [SimPEG](https://simpeg.xyz) can be installed using the python package manager PyPi and running:\n",
    "\n",
    "```sh\n",
    "conda install SimPEG --channel conda-forge\n",
    "```\n",
    "\n",
    "This tutorial consists of 3 parts, here, we introduce the problem, in [divergence.ipynb](divergence.ipynb) we build the discrete divergence operator and in [weak-formulation.ipynb](weak-formulation.ipynb), we discretize and solve the DC equations using weak formulation.\n",
    "\n",
    "**Notebooks**\n",
    "- [Mesh](mesh.ipynb)\n",
    "- [Divergence](divergence.ipynb)\n",
    "- [Weak forulation](weak-formulation.ipynb)\n",
    "- [All together now](all-together-now.ipynb)"
   ]
  },
  {
   "cell_type": "markdown",
   "metadata": {
    "iooxa": null
   },
   "source": [
    "# DC Resistivity"
   ]
  },
  {
   "cell_type": "markdown",
   "metadata": {
    "iooxa": null
   },
   "source": [
    "```{figure} ../images/dc-setup.png\n",
    "Setup of a direct current (DC) resistivity survey.\n",
    "```"
   ]
  },
  {
   "cell_type": "markdown",
   "metadata": {
    "iooxa": null
   },
   "source": [
    "DC resistivity surveys obtain information about subsurface electrical conductivity, $\\sigma$. This physical property is often diagnostic in mineral exploration, geotechnical, environmental and hydrogeologic problems, where the target of interest has a significant electrical conductivity contrast from the background. In a DC resistivity survey, steady state currents are set up in the subsurface by injecting current through a positive electrode and completing the circuit with a return electrode."
   ]
  },
  {
   "cell_type": "markdown",
   "metadata": {
    "iooxa": null
   },
   "source": [
    "## Deriving the DC equations"
   ]
  },
  {
   "cell_type": "markdown",
   "metadata": {
    "iooxa": null
   },
   "source": [
    "\n",
    "```{figure} ../images/dc-eqns.png\n",
    "Derivation of the DC resistivity equations.\n",
    "```"
   ]
  },
  {
   "cell_type": "markdown",
   "metadata": {
    "iooxa": null
   },
   "source": [
    "Conservation of charge (which can be derived by taking the divergence of Ampere’s law at steady state) connects the divergence of the current density everywhere in space to the source term which consists of two point sources, one positive and one negative. The flow of current sets up electric fields according to Ohm’s law, which relates current density to electric fields through the electrical conductivity. From Faraday’s law for steady state fields, we can describe the electric field in terms of a scalar potential, $\\phi$, which we sample at potential electrodes to obtain data in the form of potential differences."
   ]
  },
  {
   "cell_type": "markdown",
   "metadata": {
    "iooxa": null
   },
   "source": [
    "## The finish line\n",
    "*Where are we going??* \n",
    "\n",
    "Here, we are going to do a run through of how to setup and solve the DC resistivity equations for a 2D problem using [SimPEG](http://simpeg.xyz). This is meant to give you a once-over of the whole picture. We will break down the steps to get here in the series of notebooks that follow..."
   ]
  },
  {
   "cell_type": "code",
   "execution_count": 10,
   "metadata": {
    "collapsed": false,
    "iooxa": null,
    "jupyter": {
     "outputs_hidden": false
    }
   },
   "outputs": [],
   "source": [
    "# Import numpy, python's n-dimensional array package,\n",
    "# the mesh class with differential operators from SimPEG\n",
    "# matplotlib, the basic python plotting package\n",
    "import numpy as np\n",
    "import discretize\n",
    "from SimPEG import utils\n",
    "import matplotlib.pyplot as plt\n",
    "%matplotlib inline"
   ]
  },
  {
   "cell_type": "markdown",
   "metadata": {
    "iooxa": null,
    "tags": []
   },
   "source": [
    "### Mesh\n",
    "\n",
    "Where we solve things! See [mesh.ipynb](mesh.ipynb) a discussion of how we construct a mesh and the associated properties we need. "
   ]
  },
  {
   "cell_type": "code",
   "execution_count": 11,
   "metadata": {
    "collapsed": false,
    "iooxa": null,
    "jupyter": {
     "outputs_hidden": false
    }
   },
   "outputs": [
    {
     "name": "stdout",
     "output_type": "stream",
     "text": [
      "The mesh has 8000 cells.\n"
     ]
    },
    {
     "data": {
      "image/png": "[encoded data removed]",
      "text/plain": [
       "<Figure size 432x288 with 1 Axes>"
      ]
     },
     "metadata": {
      "needs_background": "light"
     },
     "output_type": "display_data"
    }
   ],
   "source": [
    "# Define a unit-cell mesh\n",
    "mesh = discretize.TensorMesh([100, 80])  # setup a mesh on which to solve\n",
    "print(\"The mesh has {nC} cells.\".format(nC=mesh.nC))\n",
    "\n",
    "mesh.plot_grid()\n",
    "plt.axis('tight');"
   ]
  },
  {
   "cell_type": "markdown",
   "metadata": {
    "iooxa": null
   },
   "source": [
    "### Physical Property Model\n",
    "\n",
    "Define an electrical conductivity ($\\sigma$) model, on the cell-centers of the mesh. "
   ]
  },
  {
   "cell_type": "code",
   "execution_count": 12,
   "metadata": {
    "collapsed": false,
    "iooxa": null,
    "jupyter": {
     "outputs_hidden": false
    }
   },
   "outputs": [
    {
     "data": {
      "image/png": "[encoded data removed]",
      "text/plain": [
       "<Figure size 432x288 with 2 Axes>"
      ]
     },
     "metadata": {
      "needs_background": "light"
     },
     "output_type": "display_data"
    }
   ],
   "source": [
    "# model parameters\n",
    "sigma_background = 1.  # Conductivity of the background, S/m\n",
    "sigma_block = 10.  # Conductivity of the block, S/m\n",
    "\n",
    "# add a block to our model\n",
    "x_block = np.r_[0.4, 0.6]\n",
    "y_block = np.r_[0.4, 0.6]\n",
    "\n",
    "# assign them on the mesh\n",
    "sigma = sigma_background * np.ones(mesh.nC)  # create a physical property model \n",
    "\n",
    "block_indices = ((mesh.gridCC[:,0] >= x_block[0]) & # left boundary\n",
    "                 (mesh.gridCC[:,0] <= x_block[1]) & # right boundary\n",
    "                 (mesh.gridCC[:,1] >= y_block[0]) & # bottom boundary\n",
    "                 (mesh.gridCC[:,1] <= y_block[1]))  # top boundary\n",
    "\n",
    "# add the block to the physical property model\n",
    "sigma[block_indices] = sigma_block\n",
    "\n",
    "# plot it!\n",
    "plt.colorbar(mesh.plot_image(sigma)[0])\n",
    "plt.title('electrical conductivity, $\\sigma$');"
   ]
  },
  {
   "cell_type": "markdown",
   "metadata": {
    "iooxa": null
   },
   "source": [
    "### Define a source\n",
    "\n",
    "Define location of the positive and negative electrodes"
   ]
  },
  {
   "cell_type": "code",
   "execution_count": 13,
   "metadata": {
    "collapsed": false,
    "iooxa": null,
    "jupyter": {
     "outputs_hidden": false
    }
   },
   "outputs": [
    {
     "data": {
      "image/png": "[encoded data removed]",
      "text/plain": [
       "<Figure size 432x288 with 2 Axes>"
      ]
     },
     "metadata": {
      "needs_background": "light"
     },
     "output_type": "display_data"
    }
   ],
   "source": [
    "# Define a source\n",
    "a_loc, b_loc = np.r_[0.2, 0.5], np.r_[0.8, 0.5]\n",
    "source_locs = [a_loc, b_loc]\n",
    "\n",
    "# locate it on the mesh\n",
    "source_loc_inds = mesh.closest_points_index(source_locs)\n",
    "a_loc_mesh = mesh.gridCC[source_loc_inds[0],:]\n",
    "b_loc_mesh = mesh.gridCC[source_loc_inds[1],:]\n",
    "\n",
    "# plot it\n",
    "plt.colorbar(mesh.plot_image(sigma)[0])\n",
    "plt.plot(a_loc_mesh[0], a_loc_mesh[1],'wv', markersize=8) # a-electrode\n",
    "plt.plot(b_loc_mesh[0], b_loc_mesh[1],'w^', markersize=8) # b-electrode\n",
    "plt.title('electrical conductivity, $\\sigma$');"
   ]
  },
  {
   "cell_type": "markdown",
   "metadata": {
    "iooxa": null
   },
   "source": [
    "### Assemble and solve the DC system of equations\n",
    "\n",
    "How we construct the divergence operator is discussed in [divergence.ipynb](divergence.ipynb), and the inner product matrix in [weakformulation.ipynb](weakformulation.ipynb). The final system is assembled and discussed in [play.ipynb](play.ipynb) (with widgets!)."
   ]
  },
  {
   "cell_type": "code",
   "execution_count": 14,
   "metadata": {
    "collapsed": false,
    "iooxa": null,
    "jupyter": {
     "outputs_hidden": false
    }
   },
   "outputs": [],
   "source": [
    "# Assemble and solve the DC resistivity problem\n",
    "Div = mesh.face_divergence\n",
    "Sigma = mesh.get_face_inner_product(sigma, invert_model=True, invert_matrix=True)\n",
    "Vol = utils.sdiag(mesh.cell_volumes)\n",
    "\n",
    "# assemble the system matrix\n",
    "A = Vol * Div * Sigma * Div.T * Vol\n",
    "\n",
    "# right hand side\n",
    "q = np.zeros(mesh.nC)\n",
    "q[source_loc_inds] = np.r_[+1, -1]"
   ]
  },
  {
   "cell_type": "code",
   "execution_count": 15,
   "metadata": {
    "iooxa": null,
    "tags": []
   },
   "outputs": [],
   "source": [
    "from SimPEG import Solver # import the default solver (LU)"
   ]
  },
  {
   "cell_type": "code",
   "execution_count": 16,
   "metadata": {
    "iooxa": null,
    "tags": []
   },
   "outputs": [],
   "source": [
    "# solve the DC resistivity problem\n",
    "Ainv = Solver(A)  # create a matrix that behaves like A inverse\n",
    "phi = Ainv * q"
   ]
  },
  {
   "cell_type": "code",
   "execution_count": 17,
   "metadata": {
    "collapsed": false,
    "iooxa": null,
    "jupyter": {
     "outputs_hidden": false
    }
   },
   "outputs": [
    {
     "data": {
      "image/png": "[encoded data removed]",
      "text/plain": [
       "<Figure size 432x288 with 2 Axes>"
      ]
     },
     "metadata": {
      "needs_background": "light"
     },
     "output_type": "display_data"
    }
   ],
   "source": [
    "# look at the results!\n",
    "plt.colorbar(mesh.plot_image(phi)[0])\n",
    "plt.title('Electric Potential, $\\phi$');"
   ]
  },
  {
   "cell_type": "markdown",
   "metadata": {
    "iooxa": null
   },
   "source": [
    "## What just happened!?\n",
    "\n",
    "In the notebooks that follow, we will:\n",
    "\n",
    "- define where variables live on the mesh ([mesh.ipynb](mesh.ipynb))\n",
    "- define the discrete divergence ([divergence.ipynb](divergence.ipynb))\n",
    "- use the weak formulation to define a solveable system of equations ([weak-formulation.ipynb](weak-formulation.ipynb))\n",
    "- solve and play with the DC resistivity equations ([all-together-now.ipynb](all-together-now.ipynb))"
   ]
  }
 ],
 "metadata": {
  "interpreter": {
   "hash": "28579dcce9b4c93863c7d16f93a67ba69218f1244c98cdb9f71bbf270d0a38fb"
  },
  "iooxa": null,
  "kernelspec": {
   "display_name": "Python 3 (ipykernel)",
   "language": "python",
   "name": "python3"
  },
  "language_info": {
   "codemirror_mode": {
    "name": "ipython",
    "version": 3
   },
   "file_extension": ".py",
   "mimetype": "text/x-python",
   "name": "python",
   "nbconvert_exporter": "python",
   "pygments_lexer": "ipython3",
   "version": "3.9.7"
  }
 },
 "nbformat": 4,
 "nbformat_minor": 4
}
